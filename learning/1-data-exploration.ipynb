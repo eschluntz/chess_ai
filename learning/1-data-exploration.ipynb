{
 "cells": [
  {
   "cell_type": "code",
   "execution_count": 2,
   "id": "5cac52f7",
   "metadata": {},
   "outputs": [],
   "source": [
    "from datasets import load_dataset"
   ]
  },
  {
   "cell_type": "code",
   "execution_count": 13,
   "id": "2da64a04",
   "metadata": {},
   "outputs": [
    {
     "data": {
      "application/vnd.jupyter.widget-view+json": {
       "model_id": "6f3aa7b25d7842b8b8c4beb1886a49d7",
       "version_major": 2,
       "version_minor": 0
      },
      "text/plain": [
       "Resolving data files:   0%|          | 0/17 [00:00<?, ?it/s]"
      ]
     },
     "metadata": {},
     "output_type": "display_data"
    },
    {
     "data": {
      "application/vnd.jupyter.widget-view+json": {
       "model_id": "24013a8c1d4e4a4aa394c5ea8c949914",
       "version_major": 2,
       "version_minor": 0
      },
      "text/plain": [
       "Resolving data files:   0%|          | 0/17 [00:00<?, ?it/s]"
      ]
     },
     "metadata": {},
     "output_type": "display_data"
    },
    {
     "data": {
      "application/vnd.jupyter.widget-view+json": {
       "model_id": "35510ba68d244f78a5ce2aa84e890153",
       "version_major": 2,
       "version_minor": 0
      },
      "text/plain": [
       "Resolving data files:   0%|          | 0/25812 [00:00<?, ?it/s]"
      ]
     },
     "metadata": {},
     "output_type": "display_data"
    },
    {
     "data": {
      "application/vnd.jupyter.widget-view+json": {
       "model_id": "d1ce31d5e60b4b39898cfd26a7301857",
       "version_major": 2,
       "version_minor": 0
      },
      "text/plain": [
       "Resolving data files:   0%|          | 0/25812 [00:00<?, ?it/s]"
      ]
     },
     "metadata": {},
     "output_type": "display_data"
    }
   ],
   "source": [
    "# both only have train splits\n",
    "ds_pos_full = load_dataset(\"Lichess/chess-position-evaluations\", streaming=True)\n",
    "ds_games_full = load_dataset(\"Lichess/standard-chess-games\", streaming=True)"
   ]
  },
  {
   "cell_type": "code",
   "execution_count": 14,
   "id": "9adf344a",
   "metadata": {},
   "outputs": [],
   "source": [
    "ds_pos = ds_pos_full[\"train\"].take(1000)\n",
    "ds_games = ds_games_full[\"train\"].take(1000)"
   ]
  },
  {
   "cell_type": "code",
   "execution_count": 39,
   "id": "82f6820b",
   "metadata": {},
   "outputs": [
    {
     "name": "stdout",
     "output_type": "stream",
     "text": [
      "IterableDataset({\n",
      "    features: ['fen', 'line', 'depth', 'knodes', 'cp', 'mate'],\n",
      "    num_shards: 17\n",
      "})\n",
      "{'fen': '7r/1p3k2/p1bPR3/5p2/2B2P1p/8/PP4P1/3K4 b - -', 'line': 'f7g7 e6e2 h8d8 e2d2 b7b5 c4b3 g7f6 d1e1 a6a5 a2a3', 'depth': 46, 'knodes': 4189972, 'cp': 69, 'mate': None}\n",
      "fen: 7r/1p3k2/p1bPR3/5p2/2B2P1p/8/PP4P1/3K4 b - -\n",
      "line: f7g7 e6e2 h8d8 e2d2 b7b5 c4b3 g7f6 d1e1 a6a5 a2a3\n",
      "centi-pawn: 69\n",
      "{'fen': '7r/1p3k2/p1bPR3/5p2/2B2P1p/8/PP4P1/3K4 b - -', 'line': 'h8d8 d1e1 a6a5 a2a3 c6d7 e6e7 f7f6 e1f2 b7b5 c4b3', 'depth': 46, 'knodes': 4189972, 'cp': 163, 'mate': None}\n",
      "fen: 7r/1p3k2/p1bPR3/5p2/2B2P1p/8/PP4P1/3K4 b - -\n",
      "line: h8d8 d1e1 a6a5 a2a3 c6d7 e6e7 f7f6 e1f2 b7b5 c4b3\n",
      "centi-pawn: 163\n",
      "{'fen': '7r/1p3k2/p1bPR3/5p2/2B2P1p/8/PP4P1/3K4 b - -', 'line': 'h8a8 d1e1 a6a5 e6h6 f7g7 h6h4 a8d8 c4d3 c6g2 d3f5', 'depth': 46, 'knodes': 4189972, 'cp': 229, 'mate': None}\n",
      "fen: 7r/1p3k2/p1bPR3/5p2/2B2P1p/8/PP4P1/3K4 b - -\n",
      "line: h8a8 d1e1 a6a5 e6h6 f7g7 h6h4 a8d8 c4d3 c6g2 d3f5\n",
      "centi-pawn: 229\n"
     ]
    }
   ],
   "source": [
    "print(ds_pos)\n",
    "for i, example in enumerate(ds_pos):\n",
    "    print(example)\n",
    "    print(\"fen:\", example['fen'])\n",
    "    print(\"line:\", example['line'])\n",
    "    print(\"centi-pawn:\", example['cp'])\n",
    "    if i >= 2:  # Limit to 10 examples\n",
    "        break"
   ]
  },
  {
   "cell_type": "code",
   "execution_count": 40,
   "id": "521bacfa",
   "metadata": {},
   "outputs": [
    {
     "name": "stdout",
     "output_type": "stream",
     "text": [
      "IterableDataset({\n",
      "    features: ['Event', 'Site', 'White', 'Black', 'Result', 'WhiteTitle', 'BlackTitle', 'WhiteElo', 'BlackElo', 'WhiteRatingDiff', 'BlackRatingDiff', 'UTCDate', 'UTCTime', 'ECO', 'Opening', 'Termination', 'TimeControl', 'movetext'],\n",
      "    num_shards: 25812\n",
      "})\n",
      "1. e4 { [%eval 0.2] } 1... e6 { [%eval 0.13] } 2. Bc4 { [%eval -0.31] } 2... d5 { [%eval -0.28] } 3. exd5 { [%eval -0.37] } 3... exd5 { [%eval -0.31] } 4. Bb3 { [%eval -0.33] } 4... Nf6 { [%eval -0.35] } 5. d4 { [%eval -0.34] } 5... Be7 { [%eval 0.0] } 6. Nf3 { [%eval 0.0] } 6... O-O { [%eval -0.08] } 7. Bg5 { [%eval -0.19] } 7... h6 { [%eval -0.29] } 8. Bxf6 { [%eval -0.36] } 8... Bxf6 { [%eval -0.37] } 9. O-O { [%eval -0.36] } 9... c6 { [%eval -0.12] } 10. Re1 { [%eval -0.17] } 10... Bf5 { [%eval -0.04] } 11. c4?! { [%eval -0.67] } 11... dxc4 { [%eval -0.5] } 12. Bxc4 { [%eval -0.77] } 12... Nd7?! { [%eval -0.1] } 13. Nc3 { [%eval 0.0] } 13... Nb6 { [%eval 0.0] } 14. b3?! { [%eval -0.76] } 14... Nxc4 { [%eval -0.49] } 15. bxc4 { [%eval -0.65] } 15... Qa5 { [%eval -0.55] } 16. Rc1 { [%eval -0.79] } 16... Rad8 { [%eval -0.78] } 17. d5?? { [%eval -5.41] } 17... Bxc3 { [%eval -5.42] } 18. Re5? { [%eval -7.61] } 18... Bxe5 { [%eval -7.78] } 19. Nxe5 { [%eval -7.72] } 19... cxd5 { [%eval -7.81] } 20. Qe1? { [%eval -9.29] } 20... Be6?? { [%eval 3.71] } 21. Rd1?? { [%eval -12.34] } 21... dxc4 { [%eval -12.71] } 22. Rxd8?! { [%eval #-1] } 22... Rxd8?! { [%eval -13.06] } 23. Qc3?! { [%eval #-2] } 23... Qxc3?! { [%eval #-4] } 24. g3 { [%eval #-3] } 24... Rd1+?! { [%eval #-4] } 25. Kg2 { [%eval #-4] } 25... Qe1?! { [%eval #-4] } 26. Kf3 { [%eval #-3] } 26... Qxe5 { [%eval #-2] } 27. Kg2 { [%eval #-2] } 27... Bd5+?! { [%eval #-2] } 28. Kh3 { [%eval #-1] } 28... Qh5# 0-1\n",
      "1. e4 { [%eval 0.31] } 1... e6 { [%eval 0.27] } 2. Nf3 { [%eval 0.13] } 2... d5 { [%eval 0.18] } 3. exd5 { [%eval 0.12] } 3... exd5 { [%eval 0.17] } 4. d4 { [%eval 0.08] } 4... Bd6 { [%eval 0.23] } 5. Bd3 { [%eval 0.07] } 5... Ne7 { [%eval 0.11] } 6. O-O { [%eval 0.1] } 6... Bf5 { [%eval 0.46] } 7. Bxf5 { [%eval 0.43] } 7... Nxf5 { [%eval 0.4] } 8. Qd3 { [%eval 0.46] } 8... Qd7 { [%eval 0.4] } 9. Re1+ { [%eval 0.5] } 9... Ne7 { [%eval 0.41] } 10. Ne5 { [%eval 0.07] } 10... Bxe5 { [%eval 0.16] } 11. dxe5 { [%eval 0.11] } 11... c6 { [%eval 0.16] } 12. c4 { [%eval 0.27] } 12... dxc4 { [%eval 0.37] } 13. Qxc4 { [%eval 0.43] } 13... Nd5 { [%eval 0.54] } 14. Nc3 { [%eval 0.54] } 14... Qe6 { [%eval 0.68] } 15. Ne4 { [%eval 0.36] } 15... Nd7? { [%eval 1.65] } 16. Nd6+ { [%eval 1.7] } 16... Ke7 { [%eval 2.15] } 17. Nxb7 { [%eval 1.71] } 17... Nxe5? { [%eval 3.69] } 18. Qc5+ { [%eval 4.22] } 18... Kd7 { [%eval 3.63] } 19. Bf4?! { [%eval 2.89] } 19... f6 { [%eval 3.05] } 20. Bxe5 { [%eval 2.56] } 20... fxe5 { [%eval 2.91] } 21. Rad1?! { [%eval 2.2] } 21... Rab8?? { [%eval 5.25] } 22. Qxa7 { [%eval 4.79] } 22... Ra8?? { [%eval 16.05] } 23. Nc5+ { [%eval 16.2] } 1-0\n",
      "1. e4 { [%eval 0.12] } 1... e5 { [%eval 0.26] } 2. Nf3 { [%eval 0.21] } 2... d6 { [%eval 0.3] } 3. d4 { [%eval 0.35] } 3... exd4 { [%eval 0.34] } 4. Nxd4 { [%eval 0.3] } 4... Nf6 { [%eval 0.41] } 5. Nc3 { [%eval 0.35] } 5... Be7 { [%eval 0.33] } 6. Be3 { [%eval 0.2] } 6... O-O { [%eval 0.16] } 7. Be2 { [%eval 0.18] } 7... Nbd7 { [%eval 0.41] } 8. Qd2 { [%eval 0.17] } 8... Nc5 { [%eval 0.61] } 9. f3 { [%eval 0.58] } 9... Nfd7 { [%eval 0.94] } 10. O-O-O { [%eval 0.97] } 10... Ne6 { [%eval 1.06] } 11. Kb1 { [%eval 0.79] } 11... Nxd4 { [%eval 0.81] } 12. Bxd4 { [%eval 0.48] } 12... Nb6?! { [%eval 1.11] } 13. g4 { [%eval 1.03] } 13... Be6 { [%eval 1.05] } 14. h4 { [%eval 1.13] } 14... Bxh4 { [%eval 2.29] } 15. f4?! { [%eval 1.36] } 15... Bc4? { [%eval 3.99] } 16. Bxc4 { [%eval 3.63] } 16... Nxc4 { [%eval 4.06] } 17. Qd3 { [%eval 3.72] } 17... c5 { [%eval 3.74] } 18. Qxc4? { [%eval 2.22] } 18... cxd4 { [%eval 2.64] } 19. Rxd4?! { [%eval 2.0] } 19... Rc8? { [%eval 3.7] } 20. Qd3 { [%eval 3.43] } 20... Bf6?? { [%eval 6.97] } 21. e5 { [%eval 6.93] } 21... Be7?? { [%eval #1] } 22. Qxh7# 1-0\n",
      "1. d4 { [%eval 0.26] } 1... d5 { [%eval 0.26] } 2. Nc3 { [%eval 0.04] } 2... e6 { [%eval 0.31] } 3. a3 { [%eval -0.13] } 3... Nf6 { [%eval -0.15] } 4. Bf4 { [%eval -0.08] } 4... Bd6 { [%eval 0.03] } 5. Qd2 { [%eval -0.15] } 5... Nc6 { [%eval -0.02] } 6. Nb5? { [%eval -1.35] } 6... Bxf4? { [%eval -0.14] } 7. Qxf4 { [%eval -0.15] } 7... e5?! { [%eval 0.51] } 8. dxe5 { [%eval 0.32] } 8... Nd7? { [%eval 2.37] } 9. e6 { [%eval 2.2] } 9... Nde5 { [%eval 2.08] } 10. Qxf7+?? { [%eval -5.85] } 10... Nxf7 { [%eval -5.91] } 11. exf7+ { [%eval -6.14] } 11... Kxf7 { [%eval -6.24] } 12. O-O-O { [%eval -5.97] } 12... Re8 { [%eval -5.77] } 13. e3 { [%eval -5.98] } 13... Kg8 { [%eval -5.75] } 14. Bd3 { [%eval -6.12] } 14... a6 { [%eval -5.79] } 15. Nc3 { [%eval -5.88] } 15... Be6 { [%eval -5.85] } 16. h3 { [%eval -6.18] } 16... Ne5 { [%eval -5.95] } 17. Be2 { [%eval -6.11] } 17... c6 { [%eval -5.98] } 18. f4?! { [%eval -6.65] } 18... Nd7 { [%eval -6.55] } 19. Re1?! { [%eval -7.06] } 19... b5 { [%eval -6.84] } 20. Bh5? { [%eval -9.26] } 20... Re7? { [%eval -6.63] } 21. Nge2 { [%eval -6.84] } 21... a5 { [%eval -6.48] } 22. Nd4 { [%eval -6.61] } 22... Qc7 { [%eval -6.62] } 23. Nf3? { [%eval -8.76] } 23... b4 { [%eval -8.91] } 24. Nb1 { [%eval -9.31] } 24... bxa3 { [%eval -9.01] } 25. Nxa3 { [%eval -9.01] } 25... Nf6 { [%eval -9.21] } 26. Bg4 { [%eval -9.61] } 26... Ne4? { [%eval -7.98] } 27. Nd4? { [%eval -9.13] } 27... Nf2?? { [%eval -3.64] } 28. Bxe6+ { [%eval -3.83] } 28... Kf8?! { [%eval -3.3] } 29. Rhf1 { [%eval -3.17] } 29... Ne4 { [%eval -3.35] } 30. f5?! { [%eval -4.05] } 30... c5? { [%eval -1.93] } 31. Ndb5? { [%eval -3.01] } 31... Qc6?! { [%eval -2.2] } 32. g4? { [%eval -3.44] } 1-0\n",
      "1. e4 { [%eval 0.21] } 1... e5 { [%eval 0.25] } 2. Nf3 { [%eval 0.3] } 2... Nc6 { [%eval 0.31] } 3. Bb5 { [%eval 0.15] } 3... Bc5 { [%eval 0.44] } 4. O-O { [%eval 0.46] } 4... Nf6 { [%eval 0.39] } 5. d3 { [%eval -0.03] } 5... O-O?! { [%eval 0.68] } 6. Bxc6 { [%eval 0.7] } 6... dxc6 { [%eval 0.91] } 7. Nxe5 { [%eval 0.88] } 7... Qd4 { [%eval 1.13] } 8. Nc4?! { [%eval 0.31] } 8... Ng4?! { [%eval 1.22] } 9. Ne3?! { [%eval 0.68] } 9... Nxe3 { [%eval 0.66] } 10. fxe3 { [%eval 0.67] } 10... Qe5? { [%eval 2.22] } 11. d4 { [%eval 2.3] } 11... Bxd4 { [%eval 2.78] } 12. exd4 { [%eval 2.74] } 12... Qxe4 { [%eval 2.63] } 13. Nc3 { [%eval 2.61] } 13... Qg6 { [%eval 2.63] } 14. Qd3?! { [%eval 1.97] } 14... Bf5?? { [%eval 6.61] } 15. Qxf5 { [%eval 6.34] } 1-0\n"
     ]
    }
   ],
   "source": [
    "print(ds_games)\n",
    "\"\"\"\n",
    "About 6% of the games include Stockfish analysis evaluations: \n",
    "[%eval 2.35] (235 centipawn advantage), \n",
    "[%eval #-4] (getting mated in 4), \n",
    "always from White's point of view.\n",
    "\"\"\"\n",
    "found = 0\n",
    "for i, example in enumerate(ds_games):\n",
    "    # print(example)\n",
    "    if 'eval' in example['movetext']:\n",
    "        print(example['movetext'])\n",
    "        found += 1\n",
    "    if found > 4:  # Limit to 10 examples\n",
    "        break"
   ]
  },
  {
   "cell_type": "markdown",
   "id": "38404973",
   "metadata": {},
   "source": [
    "ok so the positions dataset seems more directly easy to work with:\n",
    "I have the board state in fen, the centipawn score, and the next move (line).\n",
    "However, it doesn't have the previous move, if I wanted to use that as a feature.\n",
    "\n",
    "the games dataset has the previous move as well, but is a little harder to work with:\n",
    "- I'd need to filter down to games that have evaluations\n",
    "- I'd need to reconstruct the game board by building up the moves.\n",
    "\n",
    "I think for now I'm going to use the positions dataset, and I can always come back\n",
    "and add the other feature later."
   ]
  }
 ],
 "metadata": {
  "kernelspec": {
   "display_name": "venv",
   "language": "python",
   "name": "python3"
  },
  "language_info": {
   "codemirror_mode": {
    "name": "ipython",
    "version": 3
   },
   "file_extension": ".py",
   "mimetype": "text/x-python",
   "name": "python",
   "nbconvert_exporter": "python",
   "pygments_lexer": "ipython3",
   "version": "3.11.12"
  }
 },
 "nbformat": 4,
 "nbformat_minor": 5
}
