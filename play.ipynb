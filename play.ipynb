{
 "cells": [
  {
   "cell_type": "code",
   "metadata": {},
   "outputs": [],
   "source": "import chess\n\nfrom core.eval import piece_value_eval, piece_position_eval\nfrom core.search import negamax, MCTS, MCTSNode\n\nfrom IPython.display import display, clear_output\n\n\ndef ai_white(board):\n    _, move = negamax(board, piece_position_eval, 4)\n    return move\n\ndef ai_black(board):\n    _, move = negamax(board, piece_position_eval, 4)\n    return move\n\ndef human(board):\n    print(\"Human's Turn (White):\")\n    while True:\n        move = input(\"Enter your move: \")\n        try:\n            move = board.parse_san(move)\n            return move\n        except:\n            print(\"Invalid move. Please try again.\")\n            continue\n\ndef ai_vs_ai(ai_white : callable, ai_black : callable):\n    board = chess.Board()\n    while not board.is_game_over():\n        if board.turn:\n            move = ai_white(board)\n            board.push(move)\n        else:\n            move = ai_black(board)\n            board.push(move)\n        \n        # time.sleep(.1)\n        clear_output(wait=True)\n        display(board)\n\n    print(\"Game Over\")\n    result = board.result()\n    if result == \"1-0\":\n        print(\"White wins!\")\n    elif result == \"0-1\":\n        print(\"Black wins!\")\n    else:\n        print(\"It's a draw!\")\n\nai_vs_ai(ai_white, ai_black)"
  }
 ],
 "metadata": {
  "kernelspec": {
   "display_name": "venv",
   "language": "python",
   "name": "python3"
  },
  "language_info": {
   "codemirror_mode": {
    "name": "ipython",
    "version": 3
   },
   "file_extension": ".py",
   "mimetype": "text/x-python",
   "name": "python",
   "nbconvert_exporter": "python",
   "pygments_lexer": "ipython3",
   "version": "3.11.12"
  }
 },
 "nbformat": 4,
 "nbformat_minor": 2
}